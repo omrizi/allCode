{
 "cells": [
  {
   "cell_type": "code",
   "execution_count": 1,
   "metadata": {},
   "outputs": [],
   "source": [
    "def myFunc():\n",
    "    '''\n",
    "        DOCSTRING: info about the function\n",
    "        INPUT  : \n",
    "        OUTPUT : \n",
    "    '''\n",
    "    print(\"hell\")"
   ]
  },
  {
   "cell_type": "code",
   "execution_count": null,
   "metadata": {},
   "outputs": [],
   "source": [
    "help(myFunc)"
   ]
  },
  {
   "cell_type": "code",
   "execution_count": 17,
   "metadata": {},
   "outputs": [],
   "source": [
    "def say_hello(name = \"NAME\"):\n",
    "    print(\"hello \" + name)"
   ]
  },
  {
   "cell_type": "code",
   "execution_count": 18,
   "metadata": {},
   "outputs": [
    {
     "name": "stdout",
     "output_type": "stream",
     "text": [
      "hello omri\n"
     ]
    }
   ],
   "source": [
    "say_hello(\"omri\")"
   ]
  },
  {
   "cell_type": "code",
   "execution_count": 19,
   "metadata": {},
   "outputs": [],
   "source": [
    "def hey(name= \"NaMe\"):\n",
    "    return 'hello' + name"
   ]
  },
  {
   "cell_type": "code",
   "execution_count": 21,
   "metadata": {},
   "outputs": [],
   "source": [
    "s = hey(\"oziner\")"
   ]
  },
  {
   "cell_type": "code",
   "execution_count": 22,
   "metadata": {},
   "outputs": [
    {
     "data": {
      "text/plain": [
       "'hellooziner'"
      ]
     },
     "execution_count": 22,
     "metadata": {},
     "output_type": "execute_result"
    }
   ],
   "source": [
    "s"
   ]
  },
  {
   "cell_type": "code",
   "execution_count": 23,
   "metadata": {},
   "outputs": [],
   "source": [
    "def less():\n",
    "    return [\"omri\",28,\"LookingGood\"]"
   ]
  },
  {
   "cell_type": "code",
   "execution_count": 24,
   "metadata": {},
   "outputs": [
    {
     "data": {
      "text/plain": [
       "['omri', 28, 'LookingGood']"
      ]
     },
     "execution_count": 24,
     "metadata": {},
     "output_type": "execute_result"
    }
   ],
   "source": [
    "less()"
   ]
  },
  {
   "cell_type": "code",
   "execution_count": 50,
   "metadata": {},
   "outputs": [],
   "source": [
    "def myfunc(*args):\n",
    "    print('sum is {}'.format(sum(args)))\n",
    "    print('args is {}'.format(args))\n",
    "    print('len is {}'.format(len(args)))\n"
   ]
  },
  {
   "cell_type": "code",
   "execution_count": 51,
   "metadata": {},
   "outputs": [
    {
     "name": "stdout",
     "output_type": "stream",
     "text": [
      "sum is 28\n",
      "args is (1, 2, 3, 4, 5, 6, 7)\n",
      "len is 7\n"
     ]
    }
   ],
   "source": [
    "myfunc(1,2,3,4,5,6,7)"
   ]
  },
  {
   "cell_type": "code",
   "execution_count": 102,
   "metadata": {},
   "outputs": [
    {
     "name": "stdout",
     "output_type": "stream",
     "text": [
      "['o']['o', 'M']['o', 'M', 'm']['o', 'M', 'm', 'M']['o', 'M', 'm', 'M', 'm']['o', 'M', 'm', 'M', 'm', 'M']['o', 'M', 'm', 'M', 'm', 'M', 'm']['o', 'M', 'm', 'M', 'm', 'M', 'm', 'R']['o', 'M', 'm', 'M', 'm', 'M', 'm', 'R', 'i']"
     ]
    }
   ],
   "source": [
    "st = \"oMMMMMMrI\"\n",
    "sCount = 0\n",
    "l1 = []\n",
    "for letters in st:\n",
    "    if sCount % 2 == 0 :\n",
    "        #print('upperCase and even {}'.format(letters))\n",
    "        #l1.append(letters)\n",
    "       l1.append(st[sCount].lower())\n",
    "    elif sCount % 2 != 0 :\n",
    "        #print('lowerCase and odd {}'.format(letters))\n",
    "        #l1.append(letters)\n",
    "        l1.append(st[sCount].upper())\n",
    "    sCount += 1\n",
    "    print(l1,end='')\n",
    "    "
   ]
  },
  {
   "cell_type": "code",
   "execution_count": 101,
   "metadata": {},
   "outputs": [
    {
     "name": "stdout",
     "output_type": "stream",
     "text": [
      "Help on built-in function print in module builtins:\n",
      "\n",
      "print(...)\n",
      "    print(value, ..., sep=' ', end='\\n', file=sys.stdout, flush=False)\n",
      "    \n",
      "    Prints the values to a stream, or to sys.stdout by default.\n",
      "    Optional keyword arguments:\n",
      "    file:  a file-like object (stream); defaults to the current sys.stdout.\n",
      "    sep:   string inserted between values, default a space.\n",
      "    end:   string appended after the last value, default a newline.\n",
      "    flush: whether to forcibly flush the stream.\n",
      "\n"
     ]
    }
   ],
   "source": [
    "help(print)"
   ]
  },
  {
   "cell_type": "code",
   "execution_count": null,
   "metadata": {},
   "outputs": [],
   "source": []
  },
  {
   "cell_type": "code",
   "execution_count": null,
   "metadata": {},
   "outputs": [],
   "source": []
  }
 ],
 "metadata": {
  "kernelspec": {
   "display_name": "Python 3",
   "language": "python",
   "name": "python3"
  },
  "language_info": {
   "codemirror_mode": {
    "name": "ipython",
    "version": 3
   },
   "file_extension": ".py",
   "mimetype": "text/x-python",
   "name": "python",
   "nbconvert_exporter": "python",
   "pygments_lexer": "ipython3",
   "version": "3.6.4"
  }
 },
 "nbformat": 4,
 "nbformat_minor": 2
}
